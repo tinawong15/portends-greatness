{
  "nbformat": 4,
  "nbformat_minor": 0,
  "metadata": {
    "colab": {
      "name": "elections.ipynb",
      "version": "0.3.2",
      "provenance": [],
      "include_colab_link": true
    },
    "language_info": {
      "codemirror_mode": {
        "name": "ipython",
        "version": 3
      },
      "file_extension": ".py",
      "mimetype": "text/x-python",
      "name": "python",
      "nbconvert_exporter": "python",
      "pygments_lexer": "ipython3",
      "version": "3.6.7"
    },
    "kernelspec": {
      "display_name": "Python 3",
      "language": "python",
      "name": "python3"
    }
  },
  "cells": [
    {
      "cell_type": "markdown",
      "metadata": {
        "id": "view-in-github",
        "colab_type": "text"
      },
      "source": [
        "<a href=\"https://colab.research.google.com/github/tinawong15/portends-greatness/blob/master/elections.ipynb\" target=\"_parent\"><img src=\"https://colab.research.google.com/assets/colab-badge.svg\" alt=\"Open In Colab\"/></a>"
      ]
    },
    {
      "cell_type": "code",
      "metadata": {
        "colab_type": "code",
        "id": "B_VOgLzGLxc_",
        "colab": {}
      },
      "source": [
        "import os\n",
        "import pandas as pd\n",
        "import plotly.plotly as py\n",
        "import plotly.graph_objs as go\n",
        "import plotly\n",
        "import matplotlib.pyplot as plt"
      ],
      "execution_count": 0,
      "outputs": []
    },
    {
      "cell_type": "code",
      "metadata": {
        "id": "KE-pG-j1873C",
        "colab_type": "code",
        "colab": {}
      },
      "source": [
        "plotly.tools.set_credentials_file(username='raunakchow', api_key='MBOLCsoeY3lkW4dXsAhC')"
      ],
      "execution_count": 0,
      "outputs": []
    },
    {
      "cell_type": "code",
      "metadata": {
        "id": "0elyNcYWC-Yo",
        "colab_type": "code",
        "colab": {}
      },
      "source": [
        "!git clone https://raunakchowdhury:<p>@github.com/tinawong15/portends-greatness"
      ],
      "execution_count": 0,
      "outputs": []
    },
    {
      "cell_type": "code",
      "metadata": {
        "id": "QwgweMXCDnfh",
        "colab_type": "code",
        "colab": {}
      },
      "source": [
        "!ls portends-greatness"
      ],
      "execution_count": 0,
      "outputs": []
    },
    {
      "cell_type": "code",
      "metadata": {
        "id": "XBRkjy4rCaqk",
        "colab_type": "code",
        "colab": {}
      },
      "source": [
        "csv_path = \"portends-greatness/countypres_2000-2016.csv\"\n",
        "# csv_path = os.path.join('countypres_2000-2016.csv') \n",
        "df = pd.read_csv(csv_path, sep=\"\\t\") \n",
        "# df"
      ],
      "execution_count": 0,
      "outputs": []
    },
    {
      "cell_type": "code",
      "metadata": {
        "id": "4ZJvq26-Caqq",
        "colab_type": "code",
        "colab": {}
      },
      "source": [
        "winners = df.sort_values(['year', 'state', 'county', 'candidatevotes'], ascending=(True, True, True, False)).groupby(['year', 'state', 'county']).head(1)"
      ],
      "execution_count": 0,
      "outputs": []
    },
    {
      "cell_type": "code",
      "metadata": {
        "id": "r8ByFY8bH8p9",
        "colab_type": "code",
        "colab": {}
      },
      "source": [
        "# winners"
      ],
      "execution_count": 0,
      "outputs": []
    },
    {
      "cell_type": "code",
      "metadata": {
        "id": "gAkOmLG1IEJb",
        "colab_type": "code",
        "colab": {}
      },
      "source": [
        "counties_vote = winners.sort_values(['state', 'county', 'year'], ascending=(True, True, True))\n",
        "# counties_vote"
      ],
      "execution_count": 0,
      "outputs": []
    },
    {
      "cell_type": "code",
      "metadata": {
        "id": "HaAxL5VzI9k4",
        "colab_type": "code",
        "colab": {}
      },
      "source": [
        "counties_vote = counties_vote.drop([\"FIPS\", \"version\", \"office\", \"state_po\"], axis=1)\n",
        "# counties_vote"
      ],
      "execution_count": 0,
      "outputs": []
    },
    {
      "cell_type": "code",
      "metadata": {
        "id": "mVW1L1uQSXb9",
        "colab_type": "code",
        "colab": {}
      },
      "source": [
        "counties_vote[\"location\"] = counties_vote['county'].str.cat(counties_vote['state'], sep=\" \")"
      ],
      "execution_count": 0,
      "outputs": []
    },
    {
      "cell_type": "code",
      "metadata": {
        "id": "TZ8XqoD7TAL_",
        "colab_type": "code",
        "colab": {}
      },
      "source": [
        "counties_vote = counties_vote.drop(['state', 'county'], axis=1)\n",
        "# counties_vote"
      ],
      "execution_count": 0,
      "outputs": []
    },
    {
      "cell_type": "code",
      "metadata": {
        "id": "HJsrzgPzTA6_",
        "colab_type": "code",
        "colab": {}
      },
      "source": [
        "# counties_vote['order'] = counties_vote.apply(lambda row: (row.year - 2000)//4, axis = 1)"
      ],
      "execution_count": 0,
      "outputs": []
    },
    {
      "cell_type": "code",
      "metadata": {
        "id": "IMhlQqn0UOZT",
        "colab_type": "code",
        "colab": {}
      },
      "source": [
        "# counties_vote"
      ],
      "execution_count": 0,
      "outputs": []
    },
    {
      "cell_type": "code",
      "metadata": {
        "id": "o44n3X66UPoL",
        "colab_type": "code",
        "colab": {}
      },
      "source": [
        "new_counties_vote = counties_vote.copy()\n",
        "# new_counties_vote"
      ],
      "execution_count": 0,
      "outputs": []
    },
    {
      "cell_type": "code",
      "metadata": {
        "id": "vXULfGhxUpl9",
        "colab_type": "code",
        "colab": {}
      },
      "source": [
        "new_counties_vote[\"next_vote\"] = new_counties_vote.groupby('location')[\"party\"].shift(-1)\n",
        "# new_counties_vote"
      ],
      "execution_count": 0,
      "outputs": []
    },
    {
      "cell_type": "code",
      "metadata": {
        "id": "WVEvT7LzUqTA",
        "colab_type": "code",
        "colab": {}
      },
      "source": [
        "new_counties_vote[\"no_swing\"] = new_counties_vote[\"next_vote\"] == new_counties_vote[\"party\"]\n",
        "# new_counties_vote"
      ],
      "execution_count": 0,
      "outputs": []
    },
    {
      "cell_type": "code",
      "metadata": {
        "id": "3jjsJonj9D0H",
        "colab_type": "code",
        "colab": {}
      },
      "source": [
        "swing = new_counties_vote.groupby('location')['no_swing'].apply(lambda x: (x == False).sum()).reset_index(name='count')\n",
        "swing['swinginess'] = (swing['count'] - 1) / 4\n",
        "swing = swing.drop([\"count\"], axis=1)\n",
        "# swing[swing['location'] == 'Autauga Alabama']\n",
        "swing.sort_values(['swinginess'], ascending=(True))"
      ],
      "execution_count": 0,
      "outputs": []
    },
    {
      "cell_type": "code",
      "metadata": {
        "id": "NdV5suEoAg54",
        "colab_type": "code",
        "colab": {}
      },
      "source": [
        "csv_path = \"portends-greatness/1976-2016-president.csv\"\n",
        "data = pd.read_csv(csv_path)\n",
        "data = data.drop([\"state_fips\", \"notes\", \"state_cen\", \"state_ic\", \"writein\", \"version\", \"office\"], axis=1)\n",
        "print(data.shape)\n",
        "states = data[data['year'] >= 2000]\n",
        "print(states.shape)"
      ],
      "execution_count": 0,
      "outputs": []
    },
    {
      "cell_type": "code",
      "metadata": {
        "id": "z4tElbRhOLuh",
        "colab_type": "code",
        "colab": {}
      },
      "source": [
        "state_winners = states.sort_values(['year', 'state', 'candidatevotes'], ascending=(True, True, False)).groupby(['year', 'state']).head(1)\n",
        "state_winners"
      ],
      "execution_count": 0,
      "outputs": []
    },
    {
      "cell_type": "code",
      "metadata": {
        "id": "aD9GW46AOogr",
        "colab_type": "code",
        "colab": {}
      },
      "source": [
        "states_vote = state_winners.sort_values(['state', 'year'], ascending=(True, True))\n",
        "states_vote"
      ],
      "execution_count": 0,
      "outputs": []
    },
    {
      "cell_type": "code",
      "metadata": {
        "id": "OQGlHH1wP1vF",
        "colab_type": "code",
        "colab": {}
      },
      "source": [
        "new_states_vote = states_vote.copy()\n",
        "new_states_vote[\"next_vote\"] = new_states_vote.groupby('state')[\"party\"].shift(-1)\n",
        "new_states_vote[\"no_swing\"] = new_states_vote[\"next_vote\"] == new_states_vote[\"party\"]"
      ],
      "execution_count": 0,
      "outputs": []
    },
    {
      "cell_type": "code",
      "metadata": {
        "id": "pgs10npMQ4Ns",
        "colab_type": "code",
        "colab": {}
      },
      "source": [
        "swing_states = new_states_vote.groupby('state')['no_swing'].apply(lambda x: (x == False).sum()).reset_index(name='count')\n",
        "swing_states['swinginess'] = (swing_states['count'] - 1) / 4\n",
        "swing_states = swing_states.drop([\"count\"], axis=1)\n",
        "swing_states.sort_values(['swinginess'], ascending=(True))"
      ],
      "execution_count": 0,
      "outputs": []
    },
    {
      "cell_type": "code",
      "metadata": {
        "id": "8UJtoGz-RFcs",
        "colab_type": "code",
        "colab": {}
      },
      "source": [
        "relevant_states = swing_states[swing_states['swinginess']>0]\n",
        "relevant_states"
      ],
      "execution_count": 0,
      "outputs": []
    },
    {
      "cell_type": "code",
      "metadata": {
        "id": "vw12Lp90Wo4M",
        "colab_type": "code",
        "colab": {}
      },
      "source": [
        "all_states = data.sort_values(['year', 'state', 'candidatevotes'], ascending=(True, True, False)).groupby(['year', 'state']).head(1)\n",
        "all_states\n"
      ],
      "execution_count": 0,
      "outputs": []
    },
    {
      "cell_type": "code",
      "metadata": {
        "id": "iHUcHD8PX0Nj",
        "colab_type": "code",
        "colab": {}
      },
      "source": [
        "all_states_vote = all_states.copy()\n",
        "all_states_vote[\"next_vote\"] = all_states_vote.groupby('state')[\"party\"].shift(-1)"
      ],
      "execution_count": 0,
      "outputs": []
    },
    {
      "cell_type": "code",
      "metadata": {
        "id": "BbbqCMyaZhb6",
        "colab_type": "code",
        "colab": {}
      },
      "source": [
        "all_states_vote"
      ],
      "execution_count": 0,
      "outputs": []
    },
    {
      "cell_type": "code",
      "metadata": {
        "id": "GDgOv0VQZaBt",
        "colab_type": "code",
        "colab": {}
      },
      "source": [
        "all_states_vote[\"no_swing\"] = all_states_vote[\"next_vote\"] == all_states_vote[\"party\"]"
      ],
      "execution_count": 0,
      "outputs": []
    },
    {
      "cell_type": "code",
      "metadata": {
        "id": "QPNtDZKvYHcF",
        "colab_type": "code",
        "colab": {}
      },
      "source": [
        "all_swing_states = all_states_vote.groupby(['state','state_po'])['no_swing'].apply(lambda x: (x == False).sum()).reset_index(name='count')\n",
        "all_swing_states['swinginess'] = (all_swing_states['count'] - 1) / 10\n",
        "all_swing_states = all_swing_states.drop([\"count\"], axis=1)\n",
        "all_swing_states.sort_values(['swinginess'], ascending=(True))"
      ],
      "execution_count": 0,
      "outputs": []
    },
    {
      "cell_type": "code",
      "metadata": {
        "id": "KXG5wBTtwffR",
        "colab_type": "code",
        "colab": {}
      },
      "source": [
        "scale = [\n",
        "    [0.0, 'rgb(242,240,247)'],\n",
        "    [0.1, 'rgb(218,218,235)'],\n",
        "    [0.2, 'rgb(188,189,220)'],\n",
        "    [0.3, 'rgb(158,154,200)'],\n",
        "    [0.4, 'rgb(117,107,177)'],\n",
        "    [0.5, 'rgb(84,39,143)']\n",
        "]\n",
        "\n",
        "chloro = [go.Choropleth(\n",
        "    colorscale = scale,\n",
        "    autocolorscale = False,\n",
        "    locations = all_swing_states['state_po'],\n",
        "    z = all_swing_states['swinginess'].astype(float),\n",
        "    locationmode = 'USA-states',\n",
        "    # text = df['text'],\n",
        "    marker = go.choropleth.Marker(\n",
        "        line = go.choropleth.marker.Line(\n",
        "            color = 'rgb(255,255,255)',\n",
        "            width = 2\n",
        "        )),\n",
        "    colorbar = go.choropleth.ColorBar(\n",
        "        title = \"Swingibility\")\n",
        ")]"
      ],
      "execution_count": 0,
      "outputs": []
    },
    {
      "cell_type": "code",
      "metadata": {
        "id": "3TFUq47b3le1",
        "colab_type": "code",
        "colab": {}
      },
      "source": [
        "layout = go.Layout(\n",
        "    title = go.layout.Title(\n",
        "        text = 'Swinginess by State'\n",
        "    ),\n",
        "    geo = go.layout.Geo(\n",
        "        scope = 'usa',\n",
        "        projection = go.layout.geo.Projection(type = 'albers usa'),\n",
        "        showlakes = True,\n",
        "        lakecolor = 'rgb(255, 255, 255)'),\n",
        ")\n",
        "\n",
        "fig = go.Figure(data = chloro, layout = layout)\n",
        "# py.iplot(fig, filename = 'd3-cloropleth-map')"
      ],
      "execution_count": 0,
      "outputs": []
    },
    {
      "cell_type": "code",
      "metadata": {
        "id": "Adwv4iSXWfBu",
        "colab_type": "code",
        "colab": {}
      },
      "source": [
        "path = \"portends-greatness/1980-2014-Gen-Election-Turnout.csv\"\n",
        "turnout = pd.read_csv(path)\n",
        "turnout = turnout[turnout['Year'] % 4 == 0]\n",
        "all_states_vote = all_states_vote[all_states_vote['year'] > 1976]\n",
        "all_states_vote = all_states_vote[all_states_vote['year'] < 2016]\n",
        "turnout = turnout.drop([52, 884, 780, 676, 572, 468, 364, 260, 156], axis=0)\n",
        "turnout = turnout.sort_values([\"Year\", \"Unnamed: 3\"], ascending=(True, True))\n",
        "vep = pd.DataFrame(turnout[\"Voting-Eligible Population (VEP)\"])\n",
        "vep = vep.reset_index(drop=True)\n",
        "all_states_vote = all_states_vote.reset_index(drop=True)\n",
        "all_states_vote = all_states_vote.join(vep)\n",
        "all_states_vote.rename(columns={'Voting-Eligible Population (VEP)':'vep'}, \n",
        "                 inplace=True)\n",
        "all_states_vote\n",
        "turnout[turnout[\"Unnamed: 3\"] == \"United States\"]\n",
        "vep.shape"
      ],
      "execution_count": 0,
      "outputs": []
    },
    {
      "cell_type": "code",
      "metadata": {
        "id": "kpXdwl23VLRx",
        "colab_type": "code",
        "colab": {}
      },
      "source": [
        "all_states_vote['turnout'] = all_states_vote.apply(lambda row: (row.totalvotes / int((row.vep).replace(',' , ''))), axis = 1)\n",
        "all_states_vote"
      ],
      "execution_count": 0,
      "outputs": []
    },
    {
      "cell_type": "code",
      "metadata": {
        "id": "W3unACdxWv8Q",
        "colab_type": "code",
        "colab": {}
      },
      "source": [
        "last_swing_states = all_swing_states.sort_values(['swinginess'], ascending=(True)).tail(5)['state'].tolist()\n",
        "last_swing_states\n",
        "non_swing_states = all_swing_states.sort_values(['swinginess'], ascending=(True)).head(5)['state'].tolist()\n",
        "non_swing_states\n",
        "\n",
        "years = []\n",
        "for i in range(1980, 2016, 4):\n",
        "   years.append(i)"
      ],
      "execution_count": 0,
      "outputs": []
    },
    {
      "cell_type": "code",
      "metadata": {
        "id": "_kLZC0FDXZuk",
        "colab_type": "code",
        "outputId": "05897d84-c64c-430e-98c5-ba24fd174614",
        "colab": {
          "base_uri": "https://localhost:8080/",
          "height": 295
        }
      },
      "source": [
        "# plotted least swinginess states\n",
        "plt.figure(0)\n",
        "for state in non_swing_states:\n",
        "#     print(all_states_vote[all_states_vote['state'] == state]['turnout'])\n",
        "    plt.plot(years, all_states_vote[all_states_vote['state'] == state]['turnout'], linewidth=2, markersize=12)\n",
        "    \n",
        "plt.title(\"\"\"Turnout of States with the Least \"Swinginess\" \"\"\")\n",
        "plt.legend(non_swing_states)\n",
        "plt.xlabel('Year')\n",
        "plt.ylabel('% Turnout')\n",
        "plt.show()"
      ],
      "execution_count": 41,
      "outputs": [
        {
          "output_type": "display_data",
          "data": {
            "image/png": "[encoded data removed]",
            "text/plain": [
              "<Figure size 432x288 with 1 Axes>"
            ]
          },
          "metadata": {
            "tags": []
          }
        }
      ]
    },
    {
      "cell_type": "code",
      "metadata": {
        "id": "6C4TMcp2lWrT",
        "colab_type": "code",
        "outputId": "73c98a0b-89b6-41cd-9160-50aaf7a58215",
        "colab": {
          "base_uri": "https://localhost:8080/",
          "height": 295
        }
      },
      "source": [
        "# plotted most swinginess states\n",
        "plt.figure(1)\n",
        "for state in last_swing_states:\n",
        "#     print(all_states_vote[all_states_vote['state'] == state]['turnout'])\n",
        "    plt.plot(years, all_states_vote[all_states_vote['state'] == state]['turnout'], linewidth=2, markersize=12)\n",
        "    \n",
        "plt.title(\"\"\"Turnout of States with the Most \"Swinginess\" \"\"\")\n",
        "plt.legend(non_swing_states)\n",
        "plt.xlabel('Year')\n",
        "plt.ylabel('% Turnout')\n",
        "plt.show()"
      ],
      "execution_count": 42,
      "outputs": [
        {
          "output_type": "display_data",
          "data": {
            "image/png": "[encoded data removed]",
            "text/plain": [
              "<Figure size 432x288 with 1 Axes>"
            ]
          },
          "metadata": {
            "tags": []
          }
        }
      ]
    },
    {
      "cell_type": "code",
      "metadata": {
        "id": "KjBVsn0pZO_E",
        "colab_type": "code",
        "colab": {}
      },
      "source": [
        "all_states_vote"
      ],
      "execution_count": 0,
      "outputs": []
    },
    {
      "cell_type": "code",
      "metadata": {
        "id": "WVKlCQKfyByC",
        "colab_type": "code",
        "colab": {}
      },
      "source": [
        ""
      ],
      "execution_count": 0,
      "outputs": []
    }
  ]
}