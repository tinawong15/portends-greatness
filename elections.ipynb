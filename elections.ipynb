{
  "nbformat": 4,
  "nbformat_minor": 0,
  "metadata": {
    "colab": {
      "name": "elections.ipynb",
      "version": "0.3.2",
      "provenance": [],
      "include_colab_link": true
    },
    "language_info": {
      "codemirror_mode": {
        "name": "ipython",
        "version": 3
      },
      "file_extension": ".py",
      "mimetype": "text/x-python",
      "name": "python",
      "nbconvert_exporter": "python",
      "pygments_lexer": "ipython3",
      "version": "3.6.7"
    },
    "kernelspec": {
      "display_name": "Python 3",
      "language": "python",
      "name": "python3"
    }
  },
  "cells": [
    {
      "cell_type": "markdown",
      "metadata": {
        "id": "view-in-github",
        "colab_type": "text"
      },
      "source": [
        "<a href=\"https://colab.research.google.com/github/tinawong15/portends-greatness/blob/master/elections.ipynb\" target=\"_parent\"><img src=\"https://colab.research.google.com/assets/colab-badge.svg\" alt=\"Open In Colab\"/></a>"
      ]
    },
    {
      "cell_type": "code",
      "metadata": {
        "colab_type": "code",
        "id": "B_VOgLzGLxc_",
        "colab": {}
      },
      "source": [
        "import os\n",
        "import pandas as pd\n",
        "import plotly.plotly as py\n",
        "import plotly.graph_objs as go\n",
        "import plotly\n",
        "import matplotlib.pyplot as plt"
      ],
      "execution_count": 0,
      "outputs": []
    },
    {
      "cell_type": "code",
      "metadata": {
        "id": "KE-pG-j1873C",
        "colab_type": "code",
        "colab": {}
      },
      "source": [
        "plotly.tools.set_credentials_file(username='raunakchow', api_key='MBOLCsoeY3lkW4dXsAhC')"
      ],
      "execution_count": 0,
      "outputs": []
    },
    {
      "cell_type": "code",
      "metadata": {
        "id": "0elyNcYWC-Yo",
        "colab_type": "code",
        "colab": {}
      },
      "source": [
        "!git clone https://raunakchowdhury:<p>@github.com/tinawong15/portends-greatness"
      ],
      "execution_count": 0,
      "outputs": []
    },
    {
      "cell_type": "code",
      "metadata": {
        "id": "QwgweMXCDnfh",
        "colab_type": "code",
        "colab": {}
      },
      "source": [
        "!ls portends-greatness"
      ],
      "execution_count": 0,
      "outputs": []
    },
    {
      "cell_type": "code",
      "metadata": {
        "id": "XBRkjy4rCaqk",
        "colab_type": "code",
        "colab": {}
      },
      "source": [
        "csv_path = \"portends-greatness/countypres_2000-2016.csv\"\n",
        "# csv_path = os.path.join('countypres_2000-2016.csv') \n",
        "df = pd.read_csv(csv_path, sep=\"\\t\") \n",
        "# df"
      ],
      "execution_count": 0,
      "outputs": []
    },
    {
      "cell_type": "code",
      "metadata": {
        "id": "4ZJvq26-Caqq",
        "colab_type": "code",
        "colab": {}
      },
      "source": [
        "winners = df.sort_values(['year', 'state', 'county', 'candidatevotes'], ascending=(True, True, True, False)).groupby(['year', 'state', 'county']).head(1)"
      ],
      "execution_count": 0,
      "outputs": []
    },
    {
      "cell_type": "code",
      "metadata": {
        "id": "r8ByFY8bH8p9",
        "colab_type": "code",
        "colab": {}
      },
      "source": [
        "# winners"
      ],
      "execution_count": 0,
      "outputs": []
    },
    {
      "cell_type": "code",
      "metadata": {
        "id": "gAkOmLG1IEJb",
        "colab_type": "code",
        "colab": {}
      },
      "source": [
        "counties_vote = winners.sort_values(['state', 'county', 'year'], ascending=(True, True, True))\n",
        "# counties_vote"
      ],
      "execution_count": 0,
      "outputs": []
    },
    {
      "cell_type": "code",
      "metadata": {
        "id": "HaAxL5VzI9k4",
        "colab_type": "code",
        "colab": {}
      },
      "source": [
        "counties_vote = counties_vote.drop([\"FIPS\", \"version\", \"office\", \"state_po\"], axis=1)\n",
        "# counties_vote"
      ],
      "execution_count": 0,
      "outputs": []
    },
    {
      "cell_type": "code",
      "metadata": {
        "id": "mVW1L1uQSXb9",
        "colab_type": "code",
        "colab": {}
      },
      "source": [
        "counties_vote[\"location\"] = counties_vote['county'].str.cat(counties_vote['state'], sep=\" \")\n",
        "second_counties_vote = counties_vote.copy()"
      ],
      "execution_count": 0,
      "outputs": []
    },
    {
      "cell_type": "code",
      "metadata": {
        "id": "TZ8XqoD7TAL_",
        "colab_type": "code",
        "colab": {}
      },
      "source": [
        "counties_vote = counties_vote.drop(['state', 'county'], axis=1)\n",
        "# counties_vote"
      ],
      "execution_count": 0,
      "outputs": []
    },
    {
      "cell_type": "code",
      "metadata": {
        "id": "HJsrzgPzTA6_",
        "colab_type": "code",
        "colab": {}
      },
      "source": [
        "# counties_vote['order'] = counties_vote.apply(lambda row: (row.year - 2000)//4, axis = 1)"
      ],
      "execution_count": 0,
      "outputs": []
    },
    {
      "cell_type": "code",
      "metadata": {
        "id": "IMhlQqn0UOZT",
        "colab_type": "code",
        "colab": {}
      },
      "source": [
        "# counties_vote"
      ],
      "execution_count": 0,
      "outputs": []
    },
    {
      "cell_type": "code",
      "metadata": {
        "id": "o44n3X66UPoL",
        "colab_type": "code",
        "colab": {}
      },
      "source": [
        "new_counties_vote = counties_vote.copy()\n",
        "# new_counties_vote"
      ],
      "execution_count": 0,
      "outputs": []
    },
    {
      "cell_type": "code",
      "metadata": {
        "id": "vXULfGhxUpl9",
        "colab_type": "code",
        "colab": {}
      },
      "source": [
        "new_counties_vote[\"next_vote\"] = new_counties_vote.groupby('location')[\"party\"].shift(-1)\n",
        "# new_counties_vote"
      ],
      "execution_count": 0,
      "outputs": []
    },
    {
      "cell_type": "code",
      "metadata": {
        "id": "WVEvT7LzUqTA",
        "colab_type": "code",
        "colab": {}
      },
      "source": [
        "new_counties_vote[\"no_swing\"] = new_counties_vote[\"next_vote\"] == new_counties_vote[\"party\"]\n",
        "# new_counties_vote"
      ],
      "execution_count": 0,
      "outputs": []
    },
    {
      "cell_type": "code",
      "metadata": {
        "id": "3jjsJonj9D0H",
        "colab_type": "code",
        "colab": {}
      },
      "source": [
        "swing = new_counties_vote.groupby('location')['no_swing'].apply(lambda x: (x == False).sum()).reset_index(name='count')\n",
        "swing['swinginess'] = (swing['count'] - 1) / 4\n",
        "swing = swing.drop([\"count\"], axis=1)\n",
        "# swing[swing['location'] == 'Autauga Alabama']\n",
        "swing.sort_values(['swinginess'], ascending=(True))"
      ],
      "execution_count": 0,
      "outputs": []
    },
    {
      "cell_type": "code",
      "metadata": {
        "id": "NdV5suEoAg54",
        "colab_type": "code",
        "colab": {}
      },
      "source": [
        "csv_path = \"portends-greatness/1976-2016-president.csv\"\n",
        "data = pd.read_csv(csv_path)\n",
        "data = data.drop([\"state_fips\", \"notes\", \"state_cen\", \"state_ic\", \"writein\", \"version\", \"office\"], axis=1)\n",
        "print(data.shape)\n",
        "states = data[data['year'] >= 2000]\n",
        "print(states.shape)"
      ],
      "execution_count": 0,
      "outputs": []
    },
    {
      "cell_type": "code",
      "metadata": {
        "id": "z4tElbRhOLuh",
        "colab_type": "code",
        "colab": {}
      },
      "source": [
        "state_winners = states.sort_values(['year', 'state', 'candidatevotes'], ascending=(True, True, False)).groupby(['year', 'state']).head(1)\n",
        "state_winners"
      ],
      "execution_count": 0,
      "outputs": []
    },
    {
      "cell_type": "code",
      "metadata": {
        "id": "aD9GW46AOogr",
        "colab_type": "code",
        "colab": {}
      },
      "source": [
        "states_vote = state_winners.sort_values(['state', 'year'], ascending=(True, True))\n",
        "states_vote"
      ],
      "execution_count": 0,
      "outputs": []
    },
    {
      "cell_type": "code",
      "metadata": {
        "id": "OQGlHH1wP1vF",
        "colab_type": "code",
        "colab": {}
      },
      "source": [
        "new_states_vote = states_vote.copy()\n",
        "new_states_vote[\"next_vote\"] = new_states_vote.groupby('state')[\"party\"].shift(-1)\n",
        "new_states_vote[\"no_swing\"] = new_states_vote[\"next_vote\"] == new_states_vote[\"party\"]"
      ],
      "execution_count": 0,
      "outputs": []
    },
    {
      "cell_type": "code",
      "metadata": {
        "id": "pgs10npMQ4Ns",
        "colab_type": "code",
        "colab": {}
      },
      "source": [
        "swing_states = new_states_vote.groupby('state')['no_swing'].apply(lambda x: (x == False).sum()).reset_index(name='count')\n",
        "swing_states['swinginess'] = (swing_states['count'] - 1) / 4\n",
        "swing_states = swing_states.drop([\"count\"], axis=1)\n",
        "swing_states.sort_values(['swinginess'], ascending=(True))"
      ],
      "execution_count": 0,
      "outputs": []
    },
    {
      "cell_type": "code",
      "metadata": {
        "id": "8UJtoGz-RFcs",
        "colab_type": "code",
        "colab": {}
      },
      "source": [
        "relevant_states = swing_states[swing_states['swinginess']>0]\n",
        "relevant_states"
      ],
      "execution_count": 0,
      "outputs": []
    },
    {
      "cell_type": "code",
      "metadata": {
        "id": "vw12Lp90Wo4M",
        "colab_type": "code",
        "colab": {}
      },
      "source": [
        "all_states = data.sort_values(['year', 'state', 'candidatevotes'], ascending=(True, True, False)).groupby(['year', 'state']).head(1)\n",
        "all_states\n"
      ],
      "execution_count": 0,
      "outputs": []
    },
    {
      "cell_type": "code",
      "metadata": {
        "id": "iHUcHD8PX0Nj",
        "colab_type": "code",
        "colab": {}
      },
      "source": [
        "all_states_vote = all_states.copy()\n",
        "all_states_vote[\"next_vote\"] = all_states_vote.groupby('state')[\"party\"].shift(-1)"
      ],
      "execution_count": 0,
      "outputs": []
    },
    {
      "cell_type": "code",
      "metadata": {
        "id": "BbbqCMyaZhb6",
        "colab_type": "code",
        "colab": {}
      },
      "source": [
        "all_states_vote"
      ],
      "execution_count": 0,
      "outputs": []
    },
    {
      "cell_type": "code",
      "metadata": {
        "id": "GDgOv0VQZaBt",
        "colab_type": "code",
        "colab": {}
      },
      "source": [
        "all_states_vote[\"no_swing\"] = all_states_vote[\"next_vote\"] == all_states_vote[\"party\"]"
      ],
      "execution_count": 0,
      "outputs": []
    },
    {
      "cell_type": "code",
      "metadata": {
        "id": "QPNtDZKvYHcF",
        "colab_type": "code",
        "colab": {}
      },
      "source": [
        "all_swing_states = all_states_vote.groupby(['state','state_po'])['no_swing'].apply(lambda x: (x == False).sum()).reset_index(name='count')\n",
        "all_swing_states['swinginess'] = (all_swing_states['count'] - 1) / 10\n",
        "all_swing_states = all_swing_states.drop([\"count\"], axis=1)\n",
        "all_swing_states.sort_values(['swinginess'], ascending=(True))"
      ],
      "execution_count": 0,
      "outputs": []
    },
    {
      "cell_type": "code",
      "metadata": {
        "id": "KXG5wBTtwffR",
        "colab_type": "code",
        "colab": {}
      },
      "source": [
        "scale = [\n",
        "    [0.0, 'rgb(242,240,247)'],\n",
        "    [0.1, 'rgb(218,218,235)'],\n",
        "    [0.2, 'rgb(188,189,220)'],\n",
        "    [0.3, 'rgb(158,154,200)'],\n",
        "    [0.4, 'rgb(117,107,177)'],\n",
        "    [0.5, 'rgb(84,39,143)']\n",
        "]\n",
        "\n",
        "chloro = [go.Choropleth(\n",
        "    colorscale = scale,\n",
        "    autocolorscale = False,\n",
        "    locations = all_swing_states['state_po'],\n",
        "    z = all_swing_states['swinginess'].astype(float),\n",
        "    locationmode = 'USA-states',\n",
        "    # text = df['text'],\n",
        "    marker = go.choropleth.Marker(\n",
        "        line = go.choropleth.marker.Line(\n",
        "            color = 'rgb(255,255,255)',\n",
        "            width = 2\n",
        "        )),\n",
        "    colorbar = go.choropleth.ColorBar(\n",
        "        title = \"Swingibility\")\n",
        ")]"
      ],
      "execution_count": 0,
      "outputs": []
    },
    {
      "cell_type": "code",
      "metadata": {
        "id": "3TFUq47b3le1",
        "colab_type": "code",
        "colab": {}
      },
      "source": [
        "layout = go.Layout(\n",
        "    title = go.layout.Title(\n",
        "        text = 'Swinginess by State'\n",
        "    ),\n",
        "    geo = go.layout.Geo(\n",
        "        scope = 'usa',\n",
        "        projection = go.layout.geo.Projection(type = 'albers usa'),\n",
        "        showlakes = True,\n",
        "        lakecolor = 'rgb(255, 255, 255)'),\n",
        ")\n",
        "\n",
        "fig = go.Figure(data = chloro, layout = layout)\n",
        "# py.iplot(fig, filename = 'd3-cloropleth-map')"
      ],
      "execution_count": 0,
      "outputs": []
    },
    {
      "cell_type": "code",
      "metadata": {
        "id": "Adwv4iSXWfBu",
        "colab_type": "code",
        "colab": {}
      },
      "source": [
        "path = \"portends-greatness/1980-2014-Gen-Election-Turnout.csv\"\n",
        "turnout = pd.read_csv(path)\n",
        "turnout = turnout[turnout['Year'] % 4 == 0]\n",
        "all_states_vote = all_states_vote[all_states_vote['year'] > 1976]\n",
        "all_states_vote = all_states_vote[all_states_vote['year'] < 2016]\n",
        "turnout = turnout.drop([52, 884, 780, 676, 572, 468, 364, 260, 156], axis=0)\n",
        "turnout = turnout.sort_values([\"Year\", \"Unnamed: 3\"], ascending=(True, True))\n",
        "vep = pd.DataFrame(turnout[\"Voting-Eligible Population (VEP)\"])\n",
        "vep = vep.reset_index(drop=True)\n",
        "all_states_vote = all_states_vote.reset_index(drop=True)\n",
        "all_states_vote = all_states_vote.join(vep)\n",
        "all_states_vote.rename(columns={'Voting-Eligible Population (VEP)':'vep'}, \n",
        "                 inplace=True)\n",
        "all_states_vote\n",
        "turnout[turnout[\"Unnamed: 3\"] == \"United States\"]\n",
        "vep.shape"
      ],
      "execution_count": 0,
      "outputs": []
    },
    {
      "cell_type": "code",
      "metadata": {
        "id": "kpXdwl23VLRx",
        "colab_type": "code",
        "colab": {}
      },
      "source": [
        "all_states_vote['turnout'] = all_states_vote.apply(lambda row: (row.totalvotes / int((row.vep).replace(',' , ''))), axis = 1)\n",
        "all_states_vote"
      ],
      "execution_count": 0,
      "outputs": []
    },
    {
      "cell_type": "code",
      "metadata": {
        "id": "W3unACdxWv8Q",
        "colab_type": "code",
        "colab": {}
      },
      "source": [
        "last_swing_states = all_swing_states.sort_values(['swinginess'], ascending=(True)).tail(5)['state'].tolist()\n",
        "last_swing_states\n",
        "non_swing_states = all_swing_states.sort_values(['swinginess'], ascending=(True)).head(5)['state'].tolist()\n",
        "non_swing_states\n",
        "\n",
        "years = [i for i in range(1980, 2016, 4)]"
      ],
      "execution_count": 0,
      "outputs": []
    },
    {
      "cell_type": "code",
      "metadata": {
        "id": "_kLZC0FDXZuk",
        "colab_type": "code",
        "colab": {}
      },
      "source": [
        "# plotted least swinginess states\n",
        "plt.figure(0)\n",
        "for state in non_swing_states:\n",
        "#     print(all_states_vote[all_states_vote['state'] == state]['turnout'])\n",
        "    plt.plot(years, all_states_vote[all_states_vote['state'] == state]['turnout'], linewidth=2, markersize=12)\n",
        "    \n",
        "plt.title(\"\"\"Turnout of States with the Least \"Swinginess\" \"\"\")\n",
        "plt.legend(non_swing_states)\n",
        "plt.xlabel('Year')\n",
        "plt.ylabel('% Turnout')\n",
        "plt.show()"
      ],
      "execution_count": 0,
      "outputs": []
    },
    {
      "cell_type": "code",
      "metadata": {
        "id": "6C4TMcp2lWrT",
        "colab_type": "code",
        "colab": {}
      },
      "source": [
        "# plotted most swinginess states\n",
        "plt.figure(1)\n",
        "for state in last_swing_states:\n",
        "#     print(all_states_vote[all_states_vote['state'] == state]['turnout'])\n",
        "    plt.plot(years, all_states_vote[all_states_vote['state'] == state]['turnout'], linewidth=2, markersize=12)\n",
        "    \n",
        "plt.title(\"\"\"Turnout of States with the Most \"Swinginess\" \"\"\")\n",
        "plt.legend(last_swing_states)\n",
        "plt.xlabel('Year')\n",
        "plt.ylabel('% Turnout')\n",
        "plt.show()"
      ],
      "execution_count": 0,
      "outputs": []
    },
    {
      "cell_type": "code",
      "metadata": {
        "id": "KjBVsn0pZO_E",
        "colab_type": "code",
        "colab": {}
      },
      "source": [
        "path = \"portends-greatness/county_population.csv\"\n",
        "county_pop = pd.read_csv(path)\n",
        "drop_years = [str(i) for i in range(2000, 2009)]\n",
        "county_pop = county_pop.drop(['areaname'] + drop_years, axis=1)"
      ],
      "execution_count": 0,
      "outputs": []
    },
    {
      "cell_type": "code",
      "metadata": {
        "id": "WVKlCQKfyByC",
        "colab_type": "code",
        "colab": {}
      },
      "source": [
        "def return_county(county):\n",
        "    \"\"\"returns the county without extra text like 'city' \"\"\"\n",
        "    print(county)\n",
        "    county = county.split(' ')\n",
        "    return list(filter(lambda x: not x.islower(), county))\n",
        "\n",
        "# county_pop['county_name'] = county_pop.apply(lambda x: return_county(x.county_name), axis = 1)\n",
        "second_counties_vote = second_counties_vote.drop(['candidate', 'party'], axis=1)   "
      ],
      "execution_count": 0,
      "outputs": []
    },
    {
      "cell_type": "code",
      "metadata": {
        "id": "5pKGuOQ6TAh2",
        "colab_type": "code",
        "colab": {
          "base_uri": "https://localhost:8080/",
          "height": 1969
        },
        "outputId": "0a5fdbf7-6f9d-483f-bf3f-d44db080fee2"
      },
      "source": [
        "# separate into individual totalvotes\n",
        "counties = pd.DataFrame(second_counties_vote.groupby(['location','state', 'county'])['totalvotes'].max()).reset_index(['location','state', 'county'])\n",
        "counties\n",
        "# second_counties_vote.groupby('location')['totalvotes'].max()"
      ],
      "execution_count": 171,
      "outputs": [
        {
          "output_type": "execute_result",
          "data": {
            "text/html": [
              "<div>\n",
              "<style scoped>\n",
              "    .dataframe tbody tr th:only-of-type {\n",
              "        vertical-align: middle;\n",
              "    }\n",
              "\n",
              "    .dataframe tbody tr th {\n",
              "        vertical-align: top;\n",
              "    }\n",
              "\n",
              "    .dataframe thead th {\n",
              "        text-align: right;\n",
              "    }\n",
              "</style>\n",
              "<table border=\"1\" class=\"dataframe\">\n",
              "  <thead>\n",
              "    <tr style=\"text-align: right;\">\n",
              "      <th></th>\n",
              "      <th>location</th>\n",
              "      <th>state</th>\n",
              "      <th>county</th>\n",
              "      <th>totalvotes</th>\n",
              "    </tr>\n",
              "  </thead>\n",
              "  <tbody>\n",
              "    <tr>\n",
              "      <th>0</th>\n",
              "      <td>Abbeville South Carolina</td>\n",
              "      <td>South Carolina</td>\n",
              "      <td>Abbeville</td>\n",
              "      <td>11001.0</td>\n",
              "    </tr>\n",
              "    <tr>\n",
              "      <th>1</th>\n",
              "      <td>Acadia Louisiana</td>\n",
              "      <td>Louisiana</td>\n",
              "      <td>Acadia</td>\n",
              "      <td>27389.0</td>\n",
              "    </tr>\n",
              "    <tr>\n",
              "      <th>2</th>\n",
              "      <td>Accomack Virginia</td>\n",
              "      <td>Virginia</td>\n",
              "      <td>Accomack</td>\n",
              "      <td>16051.0</td>\n",
              "    </tr>\n",
              "    <tr>\n",
              "      <th>3</th>\n",
              "      <td>Ada Idaho</td>\n",
              "      <td>Idaho</td>\n",
              "      <td>Ada</td>\n",
              "      <td>195669.0</td>\n",
              "    </tr>\n",
              "    <tr>\n",
              "      <th>4</th>\n",
              "      <td>Adair Iowa</td>\n",
              "      <td>Iowa</td>\n",
              "      <td>Adair</td>\n",
              "      <td>4278.0</td>\n",
              "    </tr>\n",
              "    <tr>\n",
              "      <th>5</th>\n",
              "      <td>Adair Kentucky</td>\n",
              "      <td>Kentucky</td>\n",
              "      <td>Adair</td>\n",
              "      <td>8233.0</td>\n",
              "    </tr>\n",
              "    <tr>\n",
              "      <th>6</th>\n",
              "      <td>Adair Missouri</td>\n",
              "      <td>Missouri</td>\n",
              "      <td>Adair</td>\n",
              "      <td>11871.0</td>\n",
              "    </tr>\n",
              "    <tr>\n",
              "      <th>7</th>\n",
              "      <td>Adair Oklahoma</td>\n",
              "      <td>Oklahoma</td>\n",
              "      <td>Adair</td>\n",
              "      <td>6690.0</td>\n",
              "    </tr>\n",
              "    <tr>\n",
              "      <th>8</th>\n",
              "      <td>Adams Colorado</td>\n",
              "      <td>Colorado</td>\n",
              "      <td>Adams</td>\n",
              "      <td>193665.0</td>\n",
              "    </tr>\n",
              "    <tr>\n",
              "      <th>9</th>\n",
              "      <td>Adams Idaho</td>\n",
              "      <td>Idaho</td>\n",
              "      <td>Adams</td>\n",
              "      <td>2320.0</td>\n",
              "    </tr>\n",
              "    <tr>\n",
              "      <th>10</th>\n",
              "      <td>Adams Illinois</td>\n",
              "      <td>Illinois</td>\n",
              "      <td>Adams</td>\n",
              "      <td>31951.0</td>\n",
              "    </tr>\n",
              "    <tr>\n",
              "      <th>11</th>\n",
              "      <td>Adams Indiana</td>\n",
              "      <td>Indiana</td>\n",
              "      <td>Adams</td>\n",
              "      <td>13513.0</td>\n",
              "    </tr>\n",
              "    <tr>\n",
              "      <th>12</th>\n",
              "      <td>Adams Iowa</td>\n",
              "      <td>Iowa</td>\n",
              "      <td>Adams</td>\n",
              "      <td>2325.0</td>\n",
              "    </tr>\n",
              "    <tr>\n",
              "      <th>13</th>\n",
              "      <td>Adams Mississippi</td>\n",
              "      <td>Mississippi</td>\n",
              "      <td>Adams</td>\n",
              "      <td>15696.0</td>\n",
              "    </tr>\n",
              "    <tr>\n",
              "      <th>14</th>\n",
              "      <td>Adams Nebraska</td>\n",
              "      <td>Nebraska</td>\n",
              "      <td>Adams</td>\n",
              "      <td>13513.0</td>\n",
              "    </tr>\n",
              "    <tr>\n",
              "      <th>15</th>\n",
              "      <td>Adams North Dakota</td>\n",
              "      <td>North Dakota</td>\n",
              "      <td>Adams</td>\n",
              "      <td>1291.0</td>\n",
              "    </tr>\n",
              "    <tr>\n",
              "      <th>16</th>\n",
              "      <td>Adams Ohio</td>\n",
              "      <td>Ohio</td>\n",
              "      <td>Adams</td>\n",
              "      <td>11999.0</td>\n",
              "    </tr>\n",
              "    <tr>\n",
              "      <th>17</th>\n",
              "      <td>Adams Pennsylvania</td>\n",
              "      <td>Pennsylvania</td>\n",
              "      <td>Adams</td>\n",
              "      <td>47489.0</td>\n",
              "    </tr>\n",
              "    <tr>\n",
              "      <th>18</th>\n",
              "      <td>Adams Washington</td>\n",
              "      <td>Washington</td>\n",
              "      <td>Adams</td>\n",
              "      <td>5127.0</td>\n",
              "    </tr>\n",
              "    <tr>\n",
              "      <th>19</th>\n",
              "      <td>Adams Wisconsin</td>\n",
              "      <td>Wisconsin</td>\n",
              "      <td>Adams</td>\n",
              "      <td>10456.0</td>\n",
              "    </tr>\n",
              "    <tr>\n",
              "      <th>20</th>\n",
              "      <td>Addison Vermont</td>\n",
              "      <td>Vermont</td>\n",
              "      <td>Addison</td>\n",
              "      <td>19238.0</td>\n",
              "    </tr>\n",
              "    <tr>\n",
              "      <th>21</th>\n",
              "      <td>Aiken South Carolina</td>\n",
              "      <td>South Carolina</td>\n",
              "      <td>Aiken</td>\n",
              "      <td>74851.0</td>\n",
              "    </tr>\n",
              "    <tr>\n",
              "      <th>22</th>\n",
              "      <td>Aitkin Minnesota</td>\n",
              "      <td>Minnesota</td>\n",
              "      <td>Aitkin</td>\n",
              "      <td>9452.0</td>\n",
              "    </tr>\n",
              "    <tr>\n",
              "      <th>23</th>\n",
              "      <td>Alachua Florida</td>\n",
              "      <td>Florida</td>\n",
              "      <td>Alachua</td>\n",
              "      <td>128571.0</td>\n",
              "    </tr>\n",
              "    <tr>\n",
              "      <th>24</th>\n",
              "      <td>Alamance North Carolina</td>\n",
              "      <td>North Carolina</td>\n",
              "      <td>Alamance</td>\n",
              "      <td>71157.0</td>\n",
              "    </tr>\n",
              "    <tr>\n",
              "      <th>25</th>\n",
              "      <td>Alameda California</td>\n",
              "      <td>California</td>\n",
              "      <td>Alameda</td>\n",
              "      <td>654266.0</td>\n",
              "    </tr>\n",
              "    <tr>\n",
              "      <th>26</th>\n",
              "      <td>Alamosa Colorado</td>\n",
              "      <td>Colorado</td>\n",
              "      <td>Alamosa</td>\n",
              "      <td>6939.0</td>\n",
              "    </tr>\n",
              "    <tr>\n",
              "      <th>27</th>\n",
              "      <td>Albany New York</td>\n",
              "      <td>New York</td>\n",
              "      <td>Albany</td>\n",
              "      <td>147199.0</td>\n",
              "    </tr>\n",
              "    <tr>\n",
              "      <th>28</th>\n",
              "      <td>Albany Wyoming</td>\n",
              "      <td>Wyoming</td>\n",
              "      <td>Albany</td>\n",
              "      <td>17201.0</td>\n",
              "    </tr>\n",
              "    <tr>\n",
              "      <th>29</th>\n",
              "      <td>Albemarle Virginia</td>\n",
              "      <td>Virginia</td>\n",
              "      <td>Albemarle</td>\n",
              "      <td>56726.0</td>\n",
              "    </tr>\n",
              "    <tr>\n",
              "      <th>...</th>\n",
              "      <td>...</td>\n",
              "      <td>...</td>\n",
              "      <td>...</td>\n",
              "      <td>...</td>\n",
              "    </tr>\n",
              "    <tr>\n",
              "      <th>3123</th>\n",
              "      <td>Wyoming New York</td>\n",
              "      <td>New York</td>\n",
              "      <td>Wyoming</td>\n",
              "      <td>18164.0</td>\n",
              "    </tr>\n",
              "    <tr>\n",
              "      <th>3124</th>\n",
              "      <td>Wyoming Pennsylvania</td>\n",
              "      <td>Pennsylvania</td>\n",
              "      <td>Wyoming</td>\n",
              "      <td>13144.0</td>\n",
              "    </tr>\n",
              "    <tr>\n",
              "      <th>3125</th>\n",
              "      <td>Wyoming West Virginia</td>\n",
              "      <td>West Virginia</td>\n",
              "      <td>Wyoming</td>\n",
              "      <td>8718.0</td>\n",
              "    </tr>\n",
              "    <tr>\n",
              "      <th>3126</th>\n",
              "      <td>Wythe Virginia</td>\n",
              "      <td>Virginia</td>\n",
              "      <td>Wythe</td>\n",
              "      <td>13343.0</td>\n",
              "    </tr>\n",
              "    <tr>\n",
              "      <th>3127</th>\n",
              "      <td>Yadkin North Carolina</td>\n",
              "      <td>North Carolina</td>\n",
              "      <td>Yadkin</td>\n",
              "      <td>17624.0</td>\n",
              "    </tr>\n",
              "    <tr>\n",
              "      <th>3128</th>\n",
              "      <td>Yakima Washington</td>\n",
              "      <td>Washington</td>\n",
              "      <td>Yakima</td>\n",
              "      <td>77750.0</td>\n",
              "    </tr>\n",
              "    <tr>\n",
              "      <th>3129</th>\n",
              "      <td>Yalobusha Mississippi</td>\n",
              "      <td>Mississippi</td>\n",
              "      <td>Yalobusha</td>\n",
              "      <td>6801.0</td>\n",
              "    </tr>\n",
              "    <tr>\n",
              "      <th>3130</th>\n",
              "      <td>Yamhill Oregon</td>\n",
              "      <td>Oregon</td>\n",
              "      <td>Yamhill</td>\n",
              "      <td>48753.0</td>\n",
              "    </tr>\n",
              "    <tr>\n",
              "      <th>3131</th>\n",
              "      <td>Yancey North Carolina</td>\n",
              "      <td>North Carolina</td>\n",
              "      <td>Yancey</td>\n",
              "      <td>9960.0</td>\n",
              "    </tr>\n",
              "    <tr>\n",
              "      <th>3132</th>\n",
              "      <td>Yankton South Dakota</td>\n",
              "      <td>South Dakota</td>\n",
              "      <td>Yankton</td>\n",
              "      <td>10431.0</td>\n",
              "    </tr>\n",
              "    <tr>\n",
              "      <th>3133</th>\n",
              "      <td>Yates New York</td>\n",
              "      <td>New York</td>\n",
              "      <td>Yates</td>\n",
              "      <td>10711.0</td>\n",
              "    </tr>\n",
              "    <tr>\n",
              "      <th>3134</th>\n",
              "      <td>Yavapai Arizona</td>\n",
              "      <td>Arizona</td>\n",
              "      <td>Yavapai</td>\n",
              "      <td>114450.0</td>\n",
              "    </tr>\n",
              "    <tr>\n",
              "      <th>3135</th>\n",
              "      <td>Yazoo Mississippi</td>\n",
              "      <td>Mississippi</td>\n",
              "      <td>Yazoo</td>\n",
              "      <td>11620.0</td>\n",
              "    </tr>\n",
              "    <tr>\n",
              "      <th>3136</th>\n",
              "      <td>Yell Arkansas</td>\n",
              "      <td>Arkansas</td>\n",
              "      <td>Yell</td>\n",
              "      <td>6659.0</td>\n",
              "    </tr>\n",
              "    <tr>\n",
              "      <th>3137</th>\n",
              "      <td>Yellow Medicine Minnesota</td>\n",
              "      <td>Minnesota</td>\n",
              "      <td>Yellow Medicine</td>\n",
              "      <td>5758.0</td>\n",
              "    </tr>\n",
              "    <tr>\n",
              "      <th>3138</th>\n",
              "      <td>Yellowstone Montana</td>\n",
              "      <td>Montana</td>\n",
              "      <td>Yellowstone</td>\n",
              "      <td>70431.0</td>\n",
              "    </tr>\n",
              "    <tr>\n",
              "      <th>3139</th>\n",
              "      <td>Yoakum Texas</td>\n",
              "      <td>Texas</td>\n",
              "      <td>Yoakum</td>\n",
              "      <td>2613.0</td>\n",
              "    </tr>\n",
              "    <tr>\n",
              "      <th>3140</th>\n",
              "      <td>Yolo California</td>\n",
              "      <td>California</td>\n",
              "      <td>Yolo</td>\n",
              "      <td>82090.0</td>\n",
              "    </tr>\n",
              "    <tr>\n",
              "      <th>3141</th>\n",
              "      <td>York Maine</td>\n",
              "      <td>Maine</td>\n",
              "      <td>York</td>\n",
              "      <td>114274.0</td>\n",
              "    </tr>\n",
              "    <tr>\n",
              "      <th>3142</th>\n",
              "      <td>York Nebraska</td>\n",
              "      <td>Nebraska</td>\n",
              "      <td>York</td>\n",
              "      <td>6797.0</td>\n",
              "    </tr>\n",
              "    <tr>\n",
              "      <th>3143</th>\n",
              "      <td>York Pennsylvania</td>\n",
              "      <td>Pennsylvania</td>\n",
              "      <td>York</td>\n",
              "      <td>205986.0</td>\n",
              "    </tr>\n",
              "    <tr>\n",
              "      <th>3144</th>\n",
              "      <td>York South Carolina</td>\n",
              "      <td>South Carolina</td>\n",
              "      <td>York</td>\n",
              "      <td>114357.0</td>\n",
              "    </tr>\n",
              "    <tr>\n",
              "      <th>3145</th>\n",
              "      <td>York Virginia</td>\n",
              "      <td>Virginia</td>\n",
              "      <td>York</td>\n",
              "      <td>34118.0</td>\n",
              "    </tr>\n",
              "    <tr>\n",
              "      <th>3146</th>\n",
              "      <td>Young Texas</td>\n",
              "      <td>Texas</td>\n",
              "      <td>Young</td>\n",
              "      <td>7707.0</td>\n",
              "    </tr>\n",
              "    <tr>\n",
              "      <th>3147</th>\n",
              "      <td>Yuba California</td>\n",
              "      <td>California</td>\n",
              "      <td>Yuba</td>\n",
              "      <td>22998.0</td>\n",
              "    </tr>\n",
              "    <tr>\n",
              "      <th>3148</th>\n",
              "      <td>Yuma Arizona</td>\n",
              "      <td>Arizona</td>\n",
              "      <td>Yuma</td>\n",
              "      <td>53010.0</td>\n",
              "    </tr>\n",
              "    <tr>\n",
              "      <th>3149</th>\n",
              "      <td>Yuma Colorado</td>\n",
              "      <td>Colorado</td>\n",
              "      <td>Yuma</td>\n",
              "      <td>4791.0</td>\n",
              "    </tr>\n",
              "    <tr>\n",
              "      <th>3150</th>\n",
              "      <td>Zapata Texas</td>\n",
              "      <td>Texas</td>\n",
              "      <td>Zapata</td>\n",
              "      <td>3543.0</td>\n",
              "    </tr>\n",
              "    <tr>\n",
              "      <th>3151</th>\n",
              "      <td>Zavala Texas</td>\n",
              "      <td>Texas</td>\n",
              "      <td>Zavala</td>\n",
              "      <td>3876.0</td>\n",
              "    </tr>\n",
              "    <tr>\n",
              "      <th>3152</th>\n",
              "      <td>Ziebach South Dakota</td>\n",
              "      <td>South Dakota</td>\n",
              "      <td>Ziebach</td>\n",
              "      <td>1116.0</td>\n",
              "    </tr>\n",
              "  </tbody>\n",
              "</table>\n",
              "<p>3153 rows × 4 columns</p>\n",
              "</div>"
            ],
            "text/plain": [
              "                       location           state           county  totalvotes\n",
              "0      Abbeville South Carolina  South Carolina        Abbeville     11001.0\n",
              "1              Acadia Louisiana       Louisiana           Acadia     27389.0\n",
              "2             Accomack Virginia        Virginia         Accomack     16051.0\n",
              "3                     Ada Idaho           Idaho              Ada    195669.0\n",
              "4                    Adair Iowa            Iowa            Adair      4278.0\n",
              "5                Adair Kentucky        Kentucky            Adair      8233.0\n",
              "6                Adair Missouri        Missouri            Adair     11871.0\n",
              "7                Adair Oklahoma        Oklahoma            Adair      6690.0\n",
              "8                Adams Colorado        Colorado            Adams    193665.0\n",
              "9                   Adams Idaho           Idaho            Adams      2320.0\n",
              "10               Adams Illinois        Illinois            Adams     31951.0\n",
              "11                Adams Indiana         Indiana            Adams     13513.0\n",
              "12                   Adams Iowa            Iowa            Adams      2325.0\n",
              "13            Adams Mississippi     Mississippi            Adams     15696.0\n",
              "14               Adams Nebraska        Nebraska            Adams     13513.0\n",
              "15           Adams North Dakota    North Dakota            Adams      1291.0\n",
              "16                   Adams Ohio            Ohio            Adams     11999.0\n",
              "17           Adams Pennsylvania    Pennsylvania            Adams     47489.0\n",
              "18             Adams Washington      Washington            Adams      5127.0\n",
              "19              Adams Wisconsin       Wisconsin            Adams     10456.0\n",
              "20              Addison Vermont         Vermont          Addison     19238.0\n",
              "21         Aiken South Carolina  South Carolina            Aiken     74851.0\n",
              "22             Aitkin Minnesota       Minnesota           Aitkin      9452.0\n",
              "23              Alachua Florida         Florida          Alachua    128571.0\n",
              "24      Alamance North Carolina  North Carolina         Alamance     71157.0\n",
              "25           Alameda California      California          Alameda    654266.0\n",
              "26             Alamosa Colorado        Colorado          Alamosa      6939.0\n",
              "27              Albany New York        New York           Albany    147199.0\n",
              "28               Albany Wyoming         Wyoming           Albany     17201.0\n",
              "29           Albemarle Virginia        Virginia        Albemarle     56726.0\n",
              "...                         ...             ...              ...         ...\n",
              "3123           Wyoming New York        New York          Wyoming     18164.0\n",
              "3124       Wyoming Pennsylvania    Pennsylvania          Wyoming     13144.0\n",
              "3125      Wyoming West Virginia   West Virginia          Wyoming      8718.0\n",
              "3126             Wythe Virginia        Virginia            Wythe     13343.0\n",
              "3127      Yadkin North Carolina  North Carolina           Yadkin     17624.0\n",
              "3128          Yakima Washington      Washington           Yakima     77750.0\n",
              "3129      Yalobusha Mississippi     Mississippi        Yalobusha      6801.0\n",
              "3130             Yamhill Oregon          Oregon          Yamhill     48753.0\n",
              "3131      Yancey North Carolina  North Carolina           Yancey      9960.0\n",
              "3132       Yankton South Dakota    South Dakota          Yankton     10431.0\n",
              "3133             Yates New York        New York            Yates     10711.0\n",
              "3134            Yavapai Arizona         Arizona          Yavapai    114450.0\n",
              "3135          Yazoo Mississippi     Mississippi            Yazoo     11620.0\n",
              "3136              Yell Arkansas        Arkansas             Yell      6659.0\n",
              "3137  Yellow Medicine Minnesota       Minnesota  Yellow Medicine      5758.0\n",
              "3138        Yellowstone Montana         Montana      Yellowstone     70431.0\n",
              "3139               Yoakum Texas           Texas           Yoakum      2613.0\n",
              "3140            Yolo California      California             Yolo     82090.0\n",
              "3141                 York Maine           Maine             York    114274.0\n",
              "3142              York Nebraska        Nebraska             York      6797.0\n",
              "3143          York Pennsylvania    Pennsylvania             York    205986.0\n",
              "3144        York South Carolina  South Carolina             York    114357.0\n",
              "3145              York Virginia        Virginia             York     34118.0\n",
              "3146                Young Texas           Texas            Young      7707.0\n",
              "3147            Yuba California      California             Yuba     22998.0\n",
              "3148               Yuma Arizona         Arizona             Yuma     53010.0\n",
              "3149              Yuma Colorado        Colorado             Yuma      4791.0\n",
              "3150               Zapata Texas           Texas           Zapata      3543.0\n",
              "3151               Zavala Texas           Texas           Zavala      3876.0\n",
              "3152       Ziebach South Dakota    South Dakota          Ziebach      1116.0\n",
              "\n",
              "[3153 rows x 4 columns]"
            ]
          },
          "metadata": {
            "tags": []
          },
          "execution_count": 171
        }
      ]
    }
  ]
}