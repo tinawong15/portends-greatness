{
  "nbformat": 4,
  "nbformat_minor": 0,
  "metadata": {
    "colab": {
      "name": "elections.ipynb",
      "version": "0.3.2",
      "provenance": [],
      "include_colab_link": true
    },
    "language_info": {
      "codemirror_mode": {
        "name": "ipython",
        "version": 3
      },
      "file_extension": ".py",
      "mimetype": "text/x-python",
      "name": "python",
      "nbconvert_exporter": "python",
      "pygments_lexer": "ipython3",
      "version": "3.6.7"
    },
    "kernelspec": {
      "display_name": "Python 3",
      "language": "python",
      "name": "python3"
    }
  },
  "cells": [
    {
      "cell_type": "markdown",
      "metadata": {
        "id": "view-in-github",
        "colab_type": "text"
      },
      "source": [
        "<a href=\"https://colab.research.google.com/github/tinawong15/portends-greatness/blob/master/elections.ipynb\" target=\"_parent\"><img src=\"https://colab.research.google.com/assets/colab-badge.svg\" alt=\"Open In Colab\"/></a>"
      ]
    },
    {
      "cell_type": "code",
      "metadata": {
        "colab_type": "code",
        "id": "B_VOgLzGLxc_",
        "colab": {}
      },
      "source": [
        "import os\n",
        "import pandas as pd"
      ],
      "execution_count": 0,
      "outputs": []
    },
    {
      "cell_type": "code",
      "metadata": {
        "id": "0elyNcYWC-Yo",
        "colab_type": "code",
        "outputId": "934271f4-32ed-4bd7-a856-bc67ecad4eef",
        "colab": {
          "base_uri": "https://localhost:8080/",
          "height": 34
        }
      },
      "source": [
        "!git clone https://<user>:<password>@github.com/tinawong15/portends-greatness"
      ],
      "execution_count": 65,
      "outputs": [
        {
          "output_type": "stream",
          "text": [
            "/bin/bash: user: No such file or directory\n"
          ],
          "name": "stdout"
        }
      ]
    },
    {
      "cell_type": "code",
      "metadata": {
        "id": "QwgweMXCDnfh",
        "colab_type": "code",
        "outputId": "d7b7bfbc-9be4-43e3-db5b-ca5ca91ff771",
        "colab": {
          "base_uri": "https://localhost:8080/",
          "height": 34
        }
      },
      "source": [
        "!ls portends-greatness"
      ],
      "execution_count": 66,
      "outputs": [
        {
          "output_type": "stream",
          "text": [
            "countypres_2000-2016.csv  elections.ipynb  README.md\n"
          ],
          "name": "stdout"
        }
      ]
    },
    {
      "cell_type": "code",
      "metadata": {
        "id": "XBRkjy4rCaqk",
        "colab_type": "code",
        "colab": {}
      },
      "source": [
        "csv_path = \"portends-greatness/countypres_2000-2016.csv\"\n",
        "# csv_path = os.path.join('countypres_2000-2016.csv') \n",
        "df = pd.read_csv(csv_path, sep=\"\\t\") \n",
        "# df"
      ],
      "execution_count": 0,
      "outputs": []
    },
    {
      "cell_type": "code",
      "metadata": {
        "id": "4ZJvq26-Caqq",
        "colab_type": "code",
        "colab": {}
      },
      "source": [
        "winners = df.sort_values(['year', 'state', 'county', 'candidatevotes'], ascending=(True, True, True, False)).groupby(['year', 'state', 'county']).head(1)"
      ],
      "execution_count": 0,
      "outputs": []
    },
    {
      "cell_type": "code",
      "metadata": {
        "id": "r8ByFY8bH8p9",
        "colab_type": "code",
        "colab": {}
      },
      "source": [
        "# winners"
      ],
      "execution_count": 0,
      "outputs": []
    },
    {
      "cell_type": "code",
      "metadata": {
        "id": "gAkOmLG1IEJb",
        "colab_type": "code",
        "colab": {}
      },
      "source": [
        "counties_vote = winners.sort_values(['state', 'county', 'year'], ascending=(True, True, True))\n",
        "# counties_vote"
      ],
      "execution_count": 0,
      "outputs": []
    },
    {
      "cell_type": "code",
      "metadata": {
        "id": "HaAxL5VzI9k4",
        "colab_type": "code",
        "colab": {}
      },
      "source": [
        "counties_vote = counties_vote.drop([\"FIPS\", \"version\", \"office\", \"state_po\"], axis=1)\n",
        "# counties_vote"
      ],
      "execution_count": 0,
      "outputs": []
    },
    {
      "cell_type": "code",
      "metadata": {
        "id": "mVW1L1uQSXb9",
        "colab_type": "code",
        "colab": {}
      },
      "source": [
        "counties_vote[\"location\"] = counties_vote['county'].str.cat(counties_vote['state'], sep=\" \")"
      ],
      "execution_count": 0,
      "outputs": []
    },
    {
      "cell_type": "code",
      "metadata": {
        "id": "TZ8XqoD7TAL_",
        "colab_type": "code",
        "colab": {}
      },
      "source": [
        "counties_vote = counties_vote.drop(['state', 'county'], axis=1)\n",
        "# counties_vote"
      ],
      "execution_count": 0,
      "outputs": []
    },
    {
      "cell_type": "code",
      "metadata": {
        "id": "HJsrzgPzTA6_",
        "colab_type": "code",
        "colab": {}
      },
      "source": [
        "# counties_vote['order'] = counties_vote.apply(lambda row: (row.year - 2000)//4, axis = 1)"
      ],
      "execution_count": 0,
      "outputs": []
    },
    {
      "cell_type": "code",
      "metadata": {
        "id": "IMhlQqn0UOZT",
        "colab_type": "code",
        "colab": {}
      },
      "source": [
        "# counties_vote"
      ],
      "execution_count": 0,
      "outputs": []
    },
    {
      "cell_type": "code",
      "metadata": {
        "id": "o44n3X66UPoL",
        "colab_type": "code",
        "colab": {}
      },
      "source": [
        "new_counties_vote = counties_vote.copy()\n",
        "# new_counties_vote"
      ],
      "execution_count": 0,
      "outputs": []
    },
    {
      "cell_type": "code",
      "metadata": {
        "id": "vXULfGhxUpl9",
        "colab_type": "code",
        "colab": {}
      },
      "source": [
        "new_counties_vote[\"next_vote\"] = new_counties_vote.groupby('location')[\"party\"].shift(-1)\n",
        "# new_counties_vote"
      ],
      "execution_count": 0,
      "outputs": []
    },
    {
      "cell_type": "code",
      "metadata": {
        "id": "WVEvT7LzUqTA",
        "colab_type": "code",
        "colab": {}
      },
      "source": [
        "new_counties_vote[\"no_swing\"] = new_counties_vote[\"next_vote\"] == new_counties_vote[\"party\"]\n",
        "# new_counties_vote"
      ],
      "execution_count": 0,
      "outputs": []
    },
    {
      "cell_type": "code",
      "metadata": {
        "id": "3jjsJonj9D0H",
        "colab_type": "code",
        "colab": {
          "base_uri": "https://localhost:8080/",
          "height": 1969
        },
        "outputId": "6541e0dc-32d0-4cf4-8443-1f6da3aad3dc"
      },
      "source": [
        "swing = new_counties_vote.groupby('location')['no_swing'].apply(lambda x: (x == False).sum()).reset_index(name='count')\n",
        "swing['swinginess'] = (swing['count'] - 1) / 4\n",
        "swing = swing.drop([\"count\"], axis=1)\n",
        "# swing[swing['location'] == 'Autauga Alabama']\n",
        "swing.sort_values(['swinginess'], ascending=(True))"
      ],
      "execution_count": 79,
      "outputs": [
        {
          "output_type": "execute_result",
          "data": {
            "text/html": [
              "<div>\n",
              "<style scoped>\n",
              "    .dataframe tbody tr th:only-of-type {\n",
              "        vertical-align: middle;\n",
              "    }\n",
              "\n",
              "    .dataframe tbody tr th {\n",
              "        vertical-align: top;\n",
              "    }\n",
              "\n",
              "    .dataframe thead th {\n",
              "        text-align: right;\n",
              "    }\n",
              "</style>\n",
              "<table border=\"1\" class=\"dataframe\">\n",
              "  <thead>\n",
              "    <tr style=\"text-align: right;\">\n",
              "      <th></th>\n",
              "      <th>location</th>\n",
              "      <th>swinginess</th>\n",
              "    </tr>\n",
              "  </thead>\n",
              "  <tbody>\n",
              "    <tr>\n",
              "      <th>0</th>\n",
              "      <td>Abbeville South Carolina</td>\n",
              "      <td>0.00</td>\n",
              "    </tr>\n",
              "    <tr>\n",
              "      <th>1667</th>\n",
              "      <td>Lewis Idaho</td>\n",
              "      <td>0.00</td>\n",
              "    </tr>\n",
              "    <tr>\n",
              "      <th>1668</th>\n",
              "      <td>Lewis Kentucky</td>\n",
              "      <td>0.00</td>\n",
              "    </tr>\n",
              "    <tr>\n",
              "      <th>1669</th>\n",
              "      <td>Lewis Missouri</td>\n",
              "      <td>0.00</td>\n",
              "    </tr>\n",
              "    <tr>\n",
              "      <th>1670</th>\n",
              "      <td>Lewis New York</td>\n",
              "      <td>0.00</td>\n",
              "    </tr>\n",
              "    <tr>\n",
              "      <th>2731</th>\n",
              "      <td>Sullivan Indiana</td>\n",
              "      <td>0.00</td>\n",
              "    </tr>\n",
              "    <tr>\n",
              "      <th>1672</th>\n",
              "      <td>Lewis Washington</td>\n",
              "      <td>0.00</td>\n",
              "    </tr>\n",
              "    <tr>\n",
              "      <th>1673</th>\n",
              "      <td>Lewis West Virginia</td>\n",
              "      <td>0.00</td>\n",
              "    </tr>\n",
              "    <tr>\n",
              "      <th>1675</th>\n",
              "      <td>Lexington South Carolina</td>\n",
              "      <td>0.00</td>\n",
              "    </tr>\n",
              "    <tr>\n",
              "      <th>1676</th>\n",
              "      <td>Lexington Virginia</td>\n",
              "      <td>0.00</td>\n",
              "    </tr>\n",
              "    <tr>\n",
              "      <th>1677</th>\n",
              "      <td>Liberty Florida</td>\n",
              "      <td>0.00</td>\n",
              "    </tr>\n",
              "    <tr>\n",
              "      <th>1678</th>\n",
              "      <td>Liberty Georgia</td>\n",
              "      <td>0.00</td>\n",
              "    </tr>\n",
              "    <tr>\n",
              "      <th>1679</th>\n",
              "      <td>Liberty Montana</td>\n",
              "      <td>0.00</td>\n",
              "    </tr>\n",
              "    <tr>\n",
              "      <th>1680</th>\n",
              "      <td>Liberty Texas</td>\n",
              "      <td>0.00</td>\n",
              "    </tr>\n",
              "    <tr>\n",
              "      <th>1681</th>\n",
              "      <td>Licking Ohio</td>\n",
              "      <td>0.00</td>\n",
              "    </tr>\n",
              "    <tr>\n",
              "      <th>1682</th>\n",
              "      <td>Limestone Alabama</td>\n",
              "      <td>0.00</td>\n",
              "    </tr>\n",
              "    <tr>\n",
              "      <th>1666</th>\n",
              "      <td>Levy Florida</td>\n",
              "      <td>0.00</td>\n",
              "    </tr>\n",
              "    <tr>\n",
              "      <th>1683</th>\n",
              "      <td>Limestone Texas</td>\n",
              "      <td>0.00</td>\n",
              "    </tr>\n",
              "    <tr>\n",
              "      <th>2732</th>\n",
              "      <td>Sullivan Missouri</td>\n",
              "      <td>0.00</td>\n",
              "    </tr>\n",
              "    <tr>\n",
              "      <th>1663</th>\n",
              "      <td>Leon Texas</td>\n",
              "      <td>0.00</td>\n",
              "    </tr>\n",
              "    <tr>\n",
              "      <th>1647</th>\n",
              "      <td>Lee Georgia</td>\n",
              "      <td>0.00</td>\n",
              "    </tr>\n",
              "    <tr>\n",
              "      <th>1648</th>\n",
              "      <td>Lee Illinois</td>\n",
              "      <td>0.00</td>\n",
              "    </tr>\n",
              "    <tr>\n",
              "      <th>2736</th>\n",
              "      <td>Sullivan Tennessee</td>\n",
              "      <td>0.00</td>\n",
              "    </tr>\n",
              "    <tr>\n",
              "      <th>1650</th>\n",
              "      <td>Lee Kentucky</td>\n",
              "      <td>0.00</td>\n",
              "    </tr>\n",
              "    <tr>\n",
              "      <th>1651</th>\n",
              "      <td>Lee Mississippi</td>\n",
              "      <td>0.00</td>\n",
              "    </tr>\n",
              "    <tr>\n",
              "      <th>1652</th>\n",
              "      <td>Lee North Carolina</td>\n",
              "      <td>0.00</td>\n",
              "    </tr>\n",
              "    <tr>\n",
              "      <th>1653</th>\n",
              "      <td>Lee South Carolina</td>\n",
              "      <td>0.00</td>\n",
              "    </tr>\n",
              "    <tr>\n",
              "      <th>1654</th>\n",
              "      <td>Lee Texas</td>\n",
              "      <td>0.00</td>\n",
              "    </tr>\n",
              "    <tr>\n",
              "      <th>1655</th>\n",
              "      <td>Lee Virginia</td>\n",
              "      <td>0.00</td>\n",
              "    </tr>\n",
              "    <tr>\n",
              "      <th>2735</th>\n",
              "      <td>Sullivan Pennsylvania</td>\n",
              "      <td>0.00</td>\n",
              "    </tr>\n",
              "    <tr>\n",
              "      <th>...</th>\n",
              "      <td>...</td>\n",
              "      <td>...</td>\n",
              "    </tr>\n",
              "    <tr>\n",
              "      <th>512</th>\n",
              "      <td>Clare Michigan</td>\n",
              "      <td>0.75</td>\n",
              "    </tr>\n",
              "    <tr>\n",
              "      <th>1268</th>\n",
              "      <td>Henderson Kentucky</td>\n",
              "      <td>0.75</td>\n",
              "    </tr>\n",
              "    <tr>\n",
              "      <th>432</th>\n",
              "      <td>Cedar Iowa</td>\n",
              "      <td>0.75</td>\n",
              "    </tr>\n",
              "    <tr>\n",
              "      <th>1125</th>\n",
              "      <td>Granville North Carolina</td>\n",
              "      <td>0.75</td>\n",
              "    </tr>\n",
              "    <tr>\n",
              "      <th>456</th>\n",
              "      <td>Chattahoochee Georgia</td>\n",
              "      <td>0.75</td>\n",
              "    </tr>\n",
              "    <tr>\n",
              "      <th>1145</th>\n",
              "      <td>Greene Iowa</td>\n",
              "      <td>0.75</td>\n",
              "    </tr>\n",
              "    <tr>\n",
              "      <th>1985</th>\n",
              "      <td>Monroe Michigan</td>\n",
              "      <td>0.75</td>\n",
              "    </tr>\n",
              "    <tr>\n",
              "      <th>2440</th>\n",
              "      <td>Richmond New York</td>\n",
              "      <td>0.75</td>\n",
              "    </tr>\n",
              "    <tr>\n",
              "      <th>348</th>\n",
              "      <td>Calhoun Michigan</td>\n",
              "      <td>0.75</td>\n",
              "    </tr>\n",
              "    <tr>\n",
              "      <th>1850</th>\n",
              "      <td>Martin North Carolina</td>\n",
              "      <td>0.75</td>\n",
              "    </tr>\n",
              "    <tr>\n",
              "      <th>1805</th>\n",
              "      <td>Manistee Michigan</td>\n",
              "      <td>0.75</td>\n",
              "    </tr>\n",
              "    <tr>\n",
              "      <th>1442</th>\n",
              "      <td>Jefferson Missouri</td>\n",
              "      <td>0.75</td>\n",
              "    </tr>\n",
              "    <tr>\n",
              "      <th>2211</th>\n",
              "      <td>Panola Mississippi</td>\n",
              "      <td>0.75</td>\n",
              "    </tr>\n",
              "    <tr>\n",
              "      <th>2230</th>\n",
              "      <td>Peach Georgia</td>\n",
              "      <td>0.75</td>\n",
              "    </tr>\n",
              "    <tr>\n",
              "      <th>477</th>\n",
              "      <td>Chester Pennsylvania</td>\n",
              "      <td>0.75</td>\n",
              "    </tr>\n",
              "    <tr>\n",
              "      <th>3092</th>\n",
              "      <td>Winnebago Iowa</td>\n",
              "      <td>0.75</td>\n",
              "    </tr>\n",
              "    <tr>\n",
              "      <th>2997</th>\n",
              "      <td>Watauga North Carolina</td>\n",
              "      <td>0.75</td>\n",
              "    </tr>\n",
              "    <tr>\n",
              "      <th>962</th>\n",
              "      <td>Flagler Florida</td>\n",
              "      <td>0.75</td>\n",
              "    </tr>\n",
              "    <tr>\n",
              "      <th>1342</th>\n",
              "      <td>Huerfano Colorado</td>\n",
              "      <td>0.75</td>\n",
              "    </tr>\n",
              "    <tr>\n",
              "      <th>617</th>\n",
              "      <td>Conecuh Alabama</td>\n",
              "      <td>0.75</td>\n",
              "    </tr>\n",
              "    <tr>\n",
              "      <th>294</th>\n",
              "      <td>Buchanan Missouri</td>\n",
              "      <td>0.75</td>\n",
              "    </tr>\n",
              "    <tr>\n",
              "      <th>2015</th>\n",
              "      <td>Montgomery Virginia</td>\n",
              "      <td>0.75</td>\n",
              "    </tr>\n",
              "    <tr>\n",
              "      <th>592</th>\n",
              "      <td>Colfax New Mexico</td>\n",
              "      <td>0.75</td>\n",
              "    </tr>\n",
              "    <tr>\n",
              "      <th>2586</th>\n",
              "      <td>Seneca New York</td>\n",
              "      <td>0.75</td>\n",
              "    </tr>\n",
              "    <tr>\n",
              "      <th>1376</th>\n",
              "      <td>Iron Michigan</td>\n",
              "      <td>0.75</td>\n",
              "    </tr>\n",
              "    <tr>\n",
              "      <th>995</th>\n",
              "      <td>Franklin Kentucky</td>\n",
              "      <td>0.75</td>\n",
              "    </tr>\n",
              "    <tr>\n",
              "      <th>1371</th>\n",
              "      <td>Iosco Michigan</td>\n",
              "      <td>0.75</td>\n",
              "    </tr>\n",
              "    <tr>\n",
              "      <th>2250</th>\n",
              "      <td>Perry Indiana</td>\n",
              "      <td>0.75</td>\n",
              "    </tr>\n",
              "    <tr>\n",
              "      <th>607</th>\n",
              "      <td>Columbia Wisconsin</td>\n",
              "      <td>0.75</td>\n",
              "    </tr>\n",
              "    <tr>\n",
              "      <th>2906</th>\n",
              "      <td>Vermillion Indiana</td>\n",
              "      <td>0.75</td>\n",
              "    </tr>\n",
              "  </tbody>\n",
              "</table>\n",
              "<p>3153 rows × 2 columns</p>\n",
              "</div>"
            ],
            "text/plain": [
              "                      location  swinginess\n",
              "0     Abbeville South Carolina        0.00\n",
              "1667               Lewis Idaho        0.00\n",
              "1668            Lewis Kentucky        0.00\n",
              "1669            Lewis Missouri        0.00\n",
              "1670            Lewis New York        0.00\n",
              "2731          Sullivan Indiana        0.00\n",
              "1672          Lewis Washington        0.00\n",
              "1673       Lewis West Virginia        0.00\n",
              "1675  Lexington South Carolina        0.00\n",
              "1676        Lexington Virginia        0.00\n",
              "1677           Liberty Florida        0.00\n",
              "1678           Liberty Georgia        0.00\n",
              "1679           Liberty Montana        0.00\n",
              "1680             Liberty Texas        0.00\n",
              "1681              Licking Ohio        0.00\n",
              "1682         Limestone Alabama        0.00\n",
              "1666              Levy Florida        0.00\n",
              "1683           Limestone Texas        0.00\n",
              "2732         Sullivan Missouri        0.00\n",
              "1663                Leon Texas        0.00\n",
              "1647               Lee Georgia        0.00\n",
              "1648              Lee Illinois        0.00\n",
              "2736        Sullivan Tennessee        0.00\n",
              "1650              Lee Kentucky        0.00\n",
              "1651           Lee Mississippi        0.00\n",
              "1652        Lee North Carolina        0.00\n",
              "1653        Lee South Carolina        0.00\n",
              "1654                 Lee Texas        0.00\n",
              "1655              Lee Virginia        0.00\n",
              "2735     Sullivan Pennsylvania        0.00\n",
              "...                        ...         ...\n",
              "512             Clare Michigan        0.75\n",
              "1268        Henderson Kentucky        0.75\n",
              "432                 Cedar Iowa        0.75\n",
              "1125  Granville North Carolina        0.75\n",
              "456      Chattahoochee Georgia        0.75\n",
              "1145               Greene Iowa        0.75\n",
              "1985           Monroe Michigan        0.75\n",
              "2440         Richmond New York        0.75\n",
              "348           Calhoun Michigan        0.75\n",
              "1850     Martin North Carolina        0.75\n",
              "1805         Manistee Michigan        0.75\n",
              "1442        Jefferson Missouri        0.75\n",
              "2211        Panola Mississippi        0.75\n",
              "2230             Peach Georgia        0.75\n",
              "477       Chester Pennsylvania        0.75\n",
              "3092            Winnebago Iowa        0.75\n",
              "2997    Watauga North Carolina        0.75\n",
              "962            Flagler Florida        0.75\n",
              "1342         Huerfano Colorado        0.75\n",
              "617            Conecuh Alabama        0.75\n",
              "294          Buchanan Missouri        0.75\n",
              "2015       Montgomery Virginia        0.75\n",
              "592          Colfax New Mexico        0.75\n",
              "2586           Seneca New York        0.75\n",
              "1376             Iron Michigan        0.75\n",
              "995          Franklin Kentucky        0.75\n",
              "1371            Iosco Michigan        0.75\n",
              "2250             Perry Indiana        0.75\n",
              "607         Columbia Wisconsin        0.75\n",
              "2906        Vermillion Indiana        0.75\n",
              "\n",
              "[3153 rows x 2 columns]"
            ]
          },
          "metadata": {
            "tags": []
          },
          "execution_count": 79
        }
      ]
    },
    {
      "cell_type": "code",
      "metadata": {
        "id": "NdV5suEoAg54",
        "colab_type": "code",
        "colab": {}
      },
      "source": [
        ""
      ],
      "execution_count": 0,
      "outputs": []
    }
  ]
}